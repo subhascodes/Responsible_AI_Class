{
  "nbformat": 4,
  "nbformat_minor": 0,
  "metadata": {
    "colab": {
      "provenance": [],
      "gpuType": "T4",
      "authorship_tag": "ABX9TyNXSawXEVDtPg+PmWTyO/yf",
      "include_colab_link": true
    },
    "kernelspec": {
      "name": "python3",
      "display_name": "Python 3"
    },
    "language_info": {
      "name": "python"
    },
    "accelerator": "GPU"
  },
  "cells": [
    {
      "cell_type": "markdown",
      "metadata": {
        "id": "view-in-github",
        "colab_type": "text"
      },
      "source": [
        "<a href=\"https://colab.research.google.com/github/subhascodes/Responsible_AI_Class/blob/main/Responsible_AI_(Graph_Models_and_Similarity).ipynb\" target=\"_parent\"><img src=\"https://colab.research.google.com/assets/colab-badge.svg\" alt=\"Open In Colab\"/></a>"
      ]
    },
    {
      "cell_type": "code",
      "execution_count": null,
      "metadata": {
        "id": "qgZ_a7do-I2e",
        "colab": {
          "base_uri": "https://localhost:8080/"
        },
        "outputId": "679658e5-f498-42d0-f95f-1ccf80a5cf8a"
      },
      "outputs": [
        {
          "output_type": "stream",
          "name": "stdout",
          "text": [
            "   userId  movieId  rating   timestamp                               title  \\\n",
            "0      18        1     3.0  1108273483                    Toy Story (1995)   \n",
            "1      18        3     1.5  1108273290             Grumpier Old Men (1995)   \n",
            "2      18        5     4.0  1108273945  Father of the Bride Part II (1995)   \n",
            "3      18        7     4.0  1108273895                      Sabrina (1995)   \n",
            "4      18       10     4.0  1108273566                    GoldenEye (1995)   \n",
            "\n",
            "                                        genres  year  \n",
            "0  Adventure|Animation|Children|Comedy|Fantasy  1995  \n",
            "1                               Comedy|Romance  1995  \n",
            "2                                       Comedy  1995  \n",
            "3                               Comedy|Romance  1995  \n",
            "4                    Action|Adventure|Thriller  1995  \n",
            "Index(['userId', 'movieId', 'rating', 'timestamp', 'title', 'genres', 'year'], dtype='object')\n"
          ]
        }
      ],
      "source": [
        "import pandas as pd\n",
        "\n",
        "df = pd.read_csv('/movielens_sample_dataset_1500.csv')  # Update with your filename\n",
        "print(df.head())\n",
        "print(df.columns)\n"
      ]
    },
    {
      "cell_type": "code",
      "source": [
        "import pandas as pd\n",
        "import networkx as nx\n",
        "\n",
        "# Load dataset\n",
        "df = pd.read_csv('/content/movielens_sample_dataset_1500.csv')  # Corrected filename\n",
        "\n",
        "G = nx.Graph()\n",
        "\n",
        "# Add Movie nodes with attributes\n",
        "for idx, row in df.iterrows():\n",
        "    movie_node = f\"Movie_{row['movieId']}\"\n",
        "    # Add movie node with title, year\n",
        "    if not G.has_node(movie_node):\n",
        "        G.add_node(movie_node, type='movie', title=row['title'], year=row['year'])\n",
        "\n",
        "    # Add Genre nodes and edges\n",
        "    if pd.notna(row['genres']):\n",
        "        genres = row['genres'].split('|')\n",
        "        for genre in genres:\n",
        "            if not G.has_node(genre):\n",
        "                G.add_node(genre, type='genre')\n",
        "            # Add edge between movie and genre\n",
        "            if not G.has_edge(movie_node, genre):\n",
        "                G.add_edge(movie_node, genre, relation='has_genre')\n",
        "\n",
        "# (Optional) Add edges between movies sharing genres to model similarity explicitly\n",
        "movies = [n for n, attr in G.nodes(data=True) if attr.get('type') == 'movie']\n",
        "for i in range(len(movies)):\n",
        "    for j in range(i+1, len(movies)):\n",
        "        movie1 = movies[i]\n",
        "        movie2 = movies[j]\n",
        "        genres1 = {nbr for nbr in G.neighbors(movie1) if G.nodes[nbr]['type'] == 'genre'}\n",
        "        genres2 = {nbr for nbr in G.neighbors(movie2) if G.nodes[nbr]['type'] == 'genre'}\n",
        "        # If they share at least one genre, create similarity edge\n",
        "        if genres1 & genres2:\n",
        "            G.add_edge(movie1, movie2, relation='similar_genre')\n",
        "\n",
        "# Now graph G has movies connected to genres and movies connected to similar movies by genre"
      ],
      "metadata": {
        "id": "d11zjjJhAPay"
      },
      "execution_count": null,
      "outputs": []
    }
  ]
}